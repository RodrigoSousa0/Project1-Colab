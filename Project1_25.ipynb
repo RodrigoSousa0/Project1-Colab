{
  "nbformat": 4,
  "nbformat_minor": 0,
  "metadata": {
    "colab": {
      "provenance": [],
      "gpuType": "A100",
      "toc_visible": true,
      "machine_shape": "hm",
      "mount_file_id": "1S1IHZPn95lizXKnvAwyy9lkUBvYMvUkr",
      "authorship_tag": "ABX9TyNyZxBgz7Klz4ByJTZC+mtO",
      "include_colab_link": true
    },
    "kernelspec": {
      "name": "python3",
      "display_name": "Python 3"
    },
    "language_info": {
      "name": "python"
    },
    "accelerator": "GPU"
  },
  "cells": [
    {
      "cell_type": "markdown",
      "metadata": {
        "id": "view-in-github",
        "colab_type": "text"
      },
      "source": [
        "<a href=\"https://colab.research.google.com/github/RodrigoSousa0/project1-colab/blob/main/Project1_25.ipynb\" target=\"_parent\"><img src=\"https://colab.research.google.com/assets/colab-badge.svg\" alt=\"Open In Colab\"/></a>"
      ]
    },
    {
      "cell_type": "markdown",
      "source": [
        "# 1. Install Roboflow and Download Dataset\n"
      ],
      "metadata": {
        "id": "72ELqBgvhs2C"
      }
    },
    {
      "cell_type": "code",
      "source": [
        "!pip install roboflow keras_tuner gradio opencv-python\n",
        "\n",
        "from roboflow import Roboflow\n",
        "rf = Roboflow(api_key=\"8dRNgbX9N7gviFYrGUZ6\")\n",
        "project = rf.workspace(\"project-one-oamrm\").project(\"project-one-2\")\n",
        "version = project.version(7)\n",
        "dataset = version.download(\"folder\")\n"
      ],
      "metadata": {
        "id": "3NFbhUDohsZL",
        "colab": {
          "base_uri": "https://localhost:8080/"
        },
        "outputId": "e5c01025-4971-4e7b-f498-c5090b4675b8"
      },
      "execution_count": null,
      "outputs": [
        {
          "output_type": "stream",
          "name": "stdout",
          "text": [
            "Requirement already satisfied: roboflow in /usr/local/lib/python3.11/dist-packages (1.1.65)\n",
            "Requirement already satisfied: keras_tuner in /usr/local/lib/python3.11/dist-packages (1.4.7)\n",
            "Requirement already satisfied: certifi in /usr/local/lib/python3.11/dist-packages (from roboflow) (2025.4.26)\n",
            "Requirement already satisfied: idna==3.7 in /usr/local/lib/python3.11/dist-packages (from roboflow) (3.7)\n",
            "Requirement already satisfied: cycler in /usr/local/lib/python3.11/dist-packages (from roboflow) (0.12.1)\n",
            "Requirement already satisfied: kiwisolver>=1.3.1 in /usr/local/lib/python3.11/dist-packages (from roboflow) (1.4.8)\n",
            "Requirement already satisfied: matplotlib in /usr/local/lib/python3.11/dist-packages (from roboflow) (3.10.0)\n",
            "Requirement already satisfied: numpy>=1.18.5 in /usr/local/lib/python3.11/dist-packages (from roboflow) (2.0.2)\n",
            "Requirement already satisfied: opencv-python-headless==4.10.0.84 in /usr/local/lib/python3.11/dist-packages (from roboflow) (4.10.0.84)\n",
            "Requirement already satisfied: Pillow>=7.1.2 in /usr/local/lib/python3.11/dist-packages (from roboflow) (11.2.1)\n",
            "Requirement already satisfied: pillow-heif>=0.18.0 in /usr/local/lib/python3.11/dist-packages (from roboflow) (0.22.0)\n",
            "Requirement already satisfied: python-dateutil in /usr/local/lib/python3.11/dist-packages (from roboflow) (2.9.0.post0)\n",
            "Requirement already satisfied: python-dotenv in /usr/local/lib/python3.11/dist-packages (from roboflow) (1.1.0)\n",
            "Requirement already satisfied: requests in /usr/local/lib/python3.11/dist-packages (from roboflow) (2.32.3)\n",
            "Requirement already satisfied: six in /usr/local/lib/python3.11/dist-packages (from roboflow) (1.17.0)\n",
            "Requirement already satisfied: urllib3>=1.26.6 in /usr/local/lib/python3.11/dist-packages (from roboflow) (2.4.0)\n",
            "Requirement already satisfied: tqdm>=4.41.0 in /usr/local/lib/python3.11/dist-packages (from roboflow) (4.67.1)\n",
            "Requirement already satisfied: PyYAML>=5.3.1 in /usr/local/lib/python3.11/dist-packages (from roboflow) (6.0.2)\n",
            "Requirement already satisfied: requests-toolbelt in /usr/local/lib/python3.11/dist-packages (from roboflow) (1.0.0)\n",
            "Requirement already satisfied: filetype in /usr/local/lib/python3.11/dist-packages (from roboflow) (1.2.0)\n",
            "Requirement already satisfied: keras in /usr/local/lib/python3.11/dist-packages (from keras_tuner) (3.8.0)\n",
            "Requirement already satisfied: packaging in /usr/local/lib/python3.11/dist-packages (from keras_tuner) (24.2)\n",
            "Requirement already satisfied: kt-legacy in /usr/local/lib/python3.11/dist-packages (from keras_tuner) (1.0.5)\n",
            "Requirement already satisfied: absl-py in /usr/local/lib/python3.11/dist-packages (from keras->keras_tuner) (1.4.0)\n",
            "Requirement already satisfied: rich in /usr/local/lib/python3.11/dist-packages (from keras->keras_tuner) (13.9.4)\n",
            "Requirement already satisfied: namex in /usr/local/lib/python3.11/dist-packages (from keras->keras_tuner) (0.0.9)\n",
            "Requirement already satisfied: h5py in /usr/local/lib/python3.11/dist-packages (from keras->keras_tuner) (3.13.0)\n",
            "Requirement already satisfied: optree in /usr/local/lib/python3.11/dist-packages (from keras->keras_tuner) (0.15.0)\n",
            "Requirement already satisfied: ml-dtypes in /usr/local/lib/python3.11/dist-packages (from keras->keras_tuner) (0.4.1)\n",
            "Requirement already satisfied: contourpy>=1.0.1 in /usr/local/lib/python3.11/dist-packages (from matplotlib->roboflow) (1.3.2)\n",
            "Requirement already satisfied: fonttools>=4.22.0 in /usr/local/lib/python3.11/dist-packages (from matplotlib->roboflow) (4.58.0)\n",
            "Requirement already satisfied: pyparsing>=2.3.1 in /usr/local/lib/python3.11/dist-packages (from matplotlib->roboflow) (3.2.3)\n",
            "Requirement already satisfied: charset-normalizer<4,>=2 in /usr/local/lib/python3.11/dist-packages (from requests->roboflow) (3.4.2)\n",
            "Requirement already satisfied: typing-extensions>=4.5.0 in /usr/local/lib/python3.11/dist-packages (from optree->keras->keras_tuner) (4.13.2)\n",
            "Requirement already satisfied: markdown-it-py>=2.2.0 in /usr/local/lib/python3.11/dist-packages (from rich->keras->keras_tuner) (3.0.0)\n",
            "Requirement already satisfied: pygments<3.0.0,>=2.13.0 in /usr/local/lib/python3.11/dist-packages (from rich->keras->keras_tuner) (2.19.1)\n",
            "Requirement already satisfied: mdurl~=0.1 in /usr/local/lib/python3.11/dist-packages (from markdown-it-py>=2.2.0->rich->keras->keras_tuner) (0.1.2)\n",
            "loading Roboflow workspace...\n",
            "loading Roboflow project...\n"
          ]
        }
      ]
    },
    {
      "cell_type": "markdown",
      "source": [
        "# 2. Setup Paths and Imports\n"
      ],
      "metadata": {
        "id": "n78wy6ScWWxW"
      }
    },
    {
      "cell_type": "code",
      "execution_count": null,
      "metadata": {
        "colab": {
          "base_uri": "https://localhost:8080/"
        },
        "id": "Y8UjJ1lsWJIY",
        "outputId": "2c07953b-37df-43e1-dbe7-80baefe861d6"
      },
      "outputs": [
        {
          "output_type": "stream",
          "name": "stdout",
          "text": [
            "Train dir: /content/Project-one-2-7/train\n",
            "Val dir: /content/Project-one-2-7/valid\n",
            "Test dir: /content/Project-one-2-7/test\n"
          ]
        }
      ],
      "source": [
        "import tensorflow as tf\n",
        "from tensorflow.keras import layers, models\n",
        "from tensorflow.keras.applications import ResNet50\n",
        "from tensorflow.keras.callbacks import EarlyStopping, ModelCheckpoint\n",
        "import os\n",
        "\n",
        "IMG_HEIGHT = 224\n",
        "IMG_WIDTH = 224\n",
        "BATCH_SIZE = 64\n",
        "\n",
        "base_dir = dataset.location\n",
        "train_dir = os.path.join(base_dir, \"train\")\n",
        "val_dir = os.path.join(base_dir, \"valid\")\n",
        "test_dir = os.path.join(base_dir, \"test\")\n",
        "\n",
        "# Check if folders exist\n",
        "print(\"Train dir:\", train_dir)\n",
        "print(\"Val dir:\", val_dir)\n",
        "print(\"Test dir:\", test_dir)"
      ]
    },
    {
      "cell_type": "markdown",
      "source": [
        "# 3. Load the Data\n"
      ],
      "metadata": {
        "id": "ESDPGl5tWRXB"
      }
    },
    {
      "cell_type": "code",
      "source": [
        "import tensorflow as tf\n",
        "\n",
        "IMG_SIZE = (224, 224)\n",
        "BATCH_SIZE = 64\n",
        "\n",
        "train_ds = tf.keras.utils.image_dataset_from_directory(\n",
        "    train_dir,\n",
        "    label_mode=\"int\",\n",
        "    image_size=IMG_SIZE,\n",
        "    batch_size=BATCH_SIZE,\n",
        "    shuffle=True\n",
        ")\n",
        "val_ds = tf.keras.utils.image_dataset_from_directory(\n",
        "    val_dir,\n",
        "    label_mode=\"int\",\n",
        "    image_size=IMG_SIZE,\n",
        "    batch_size=BATCH_SIZE,\n",
        "    shuffle=False\n",
        ")\n",
        "test_ds = tf.keras.utils.image_dataset_from_directory(\n",
        "    test_dir,\n",
        "    label_mode=\"int\",\n",
        "    image_size=IMG_SIZE,\n",
        "    batch_size=BATCH_SIZE,\n",
        "    shuffle=False\n",
        ")\n",
        "\n",
        "class_names = test_ds.class_names\n"
      ],
      "metadata": {
        "colab": {
          "base_uri": "https://localhost:8080/"
        },
        "id": "CqWgi7sRWQK_",
        "outputId": "0d0dd861-10d3-436a-b4b7-f1bf2754c505"
      },
      "execution_count": null,
      "outputs": [
        {
          "output_type": "stream",
          "name": "stdout",
          "text": [
            "Found 16230 files belonging to 3 classes.\n",
            "Found 1517 files belonging to 3 classes.\n",
            "Found 748 files belonging to 3 classes.\n"
          ]
        }
      ]
    },
    {
      "cell_type": "markdown",
      "source": [
        "# 5. Preprocess with ResNet preprocessing"
      ],
      "metadata": {
        "id": "jLJJcuSOiJ-P"
      }
    },
    {
      "cell_type": "code",
      "source": [
        "from tensorflow.keras.applications.resnet import preprocess_input\n",
        "\n",
        "train_ds = train_ds.map(lambda X, y: (preprocess_input(X), y))\n",
        "val_ds = val_ds.map(lambda X, y: (preprocess_input(X), y))\n",
        "test_ds = test_ds.map(lambda X, y: (preprocess_input(X), y))\n",
        "\n",
        "AUTOTUNE = tf.data.AUTOTUNE\n",
        "train_ds = train_ds.cache().prefetch(buffer_size=AUTOTUNE)\n",
        "val_ds = val_ds.cache().prefetch(buffer_size=AUTOTUNE)\n",
        "test_ds = test_ds.cache().prefetch(buffer_size=AUTOTUNE)\n"
      ],
      "metadata": {
        "id": "707rVTOKiJLO"
      },
      "execution_count": null,
      "outputs": []
    },
    {
      "cell_type": "markdown",
      "source": [
        "# 6. Build model function for Keras Tuner (Hyperparameter tuning)"
      ],
      "metadata": {
        "id": "0XzU6Vo1cqsO"
      }
    },
    {
      "cell_type": "code",
      "source": [
        "from tensorflow.keras.applications import ResNet101\n",
        "from tensorflow.keras import layers, models, optimizers, losses, metrics\n",
        "\n",
        "def build_model(hp):\n",
        "    base = ResNet101(input_shape=IMG_SIZE + (3,), include_top=False, weights='imagenet')\n",
        "    base.trainable = False\n",
        "    inputs = tf.keras.Input(shape=IMG_SIZE + (3,))\n",
        "    x = base(inputs, training=False)\n",
        "    x = layers.GlobalAveragePooling2D()(x)\n",
        "    x = layers.Dropout(0.3)(x)\n",
        "    outputs = layers.Dense(3, activation='softmax')(x)\n",
        "    model = models.Model(inputs, outputs)\n",
        "    hp_learning_rate = hp.Choice('learning_rate', [1e-2, 1e-3, 1e-4])\n",
        "    hp_optimizer = hp.Choice('optimizer', ['adam', 'sgd'])\n",
        "    if hp_optimizer == 'adam':\n",
        "        optimizer = optimizers.Adam(learning_rate=hp_learning_rate)\n",
        "    else:\n",
        "        optimizer = optimizers.SGD(learning_rate=hp_learning_rate, momentum=0.9)\n",
        "    model.compile(\n",
        "        optimizer=optimizer,\n",
        "        loss=losses.SparseCategoricalCrossentropy(from_logits=False),\n",
        "        metrics=[metrics.SparseCategoricalAccuracy(name=\"accuracy\")]\n",
        "    )\n",
        "    return model"
      ],
      "metadata": {
        "id": "7G7WCEoMcrBL"
      },
      "execution_count": null,
      "outputs": []
    },
    {
      "cell_type": "markdown",
      "source": [
        "# 7. Hyperparameter search using Keras Tuner"
      ],
      "metadata": {
        "id": "O0KpMKHicx2U"
      }
    },
    {
      "cell_type": "code",
      "source": [
        "import keras_tuner as kt\n",
        "\n",
        "tuner = kt.Hyperband(\n",
        "    build_model,\n",
        "    objective='val_accuracy',\n",
        "    max_epochs=10,\n",
        "    factor=3,\n",
        "    overwrite=True,\n",
        "    directory='hyperparam_tuning',\n",
        "    project_name='resnet101_tuning'\n",
        ")\n",
        "\n",
        "tuner.search(train_ds, validation_data=val_ds, epochs=10, verbose=2)\n",
        "\n",
        "best_hps = tuner.get_best_hyperparameters(1)[0]\n",
        "print(f\"Best learning rate: {best_hps.get('learning_rate')}\")\n",
        "print(f\"Best optimizer: {best_hps.get('optimizer')}\")\n"
      ],
      "metadata": {
        "colab": {
          "base_uri": "https://localhost:8080/"
        },
        "id": "-YsqFyKvcyqV",
        "outputId": "359e500d-d2dc-47eb-c57b-5628d1c82095"
      },
      "execution_count": null,
      "outputs": [
        {
          "output_type": "stream",
          "name": "stdout",
          "text": [
            "Trial 6 Complete [00h 01m 02s]\n",
            "val_accuracy: 0.9604482650756836\n",
            "\n",
            "Best val_accuracy So Far: 0.9604482650756836\n",
            "Total elapsed time: 00h 06m 20s\n",
            "Best learning rate: 0.01\n",
            "Best optimizer: adam\n"
          ]
        }
      ]
    },
    {
      "cell_type": "markdown",
      "source": [
        "# 8. Build and compile final model with best hyperparameters"
      ],
      "metadata": {
        "id": "5CbVYr9Pc16L"
      }
    },
    {
      "cell_type": "code",
      "source": [
        "if best_hps.get('optimizer') == 'adam':\n",
        "    optimizer = optimizers.Adam(learning_rate=best_hps.get('learning_rate'))\n",
        "else:\n",
        "    optimizer = optimizers.SGD(learning_rate=best_hps.get('learning_rate'), momentum=0.9)\n",
        "\n",
        "base_model = ResNet101(input_shape=IMG_SIZE + (3,), include_top=False, weights='imagenet')\n",
        "base_model.trainable = False\n",
        "inputs = tf.keras.Input(shape=IMG_SIZE + (3,))\n",
        "x = base_model(inputs, training=False)\n",
        "x = layers.GlobalAveragePooling2D()(x)\n",
        "x = layers.Dropout(0.3)(x)\n",
        "outputs = layers.Dense(3, activation='softmax')(x)\n",
        "model = models.Model(inputs, outputs)\n",
        "\n",
        "model.compile(optimizer=optimizer,\n",
        "              loss=losses.SparseCategoricalCrossentropy(),\n",
        "              metrics=[metrics.SparseCategoricalAccuracy(name=\"accuracy\")])\n",
        "\n",
        "model.summary()\n"
      ],
      "metadata": {
        "colab": {
          "base_uri": "https://localhost:8080/",
          "height": 323
        },
        "id": "Qgz4IP0oc19-",
        "outputId": "e534fca6-5d1b-4d15-cc4e-74612442ebdf"
      },
      "execution_count": null,
      "outputs": [
        {
          "output_type": "display_data",
          "data": {
            "text/plain": [
              "\u001b[1mModel: \"functional_1\"\u001b[0m\n"
            ],
            "text/html": [
              "<pre style=\"white-space:pre;overflow-x:auto;line-height:normal;font-family:Menlo,'DejaVu Sans Mono',consolas,'Courier New',monospace\"><span style=\"font-weight: bold\">Model: \"functional_1\"</span>\n",
              "</pre>\n"
            ]
          },
          "metadata": {}
        },
        {
          "output_type": "display_data",
          "data": {
            "text/plain": [
              "┏━━━━━━━━━━━━━━━━━━━━━━━━━━━━━━━━━┳━━━━━━━━━━━━━━━━━━━━━━━━┳━━━━━━━━━━━━━━━┓\n",
              "┃\u001b[1m \u001b[0m\u001b[1mLayer (type)                   \u001b[0m\u001b[1m \u001b[0m┃\u001b[1m \u001b[0m\u001b[1mOutput Shape          \u001b[0m\u001b[1m \u001b[0m┃\u001b[1m \u001b[0m\u001b[1m      Param #\u001b[0m\u001b[1m \u001b[0m┃\n",
              "┡━━━━━━━━━━━━━━━━━━━━━━━━━━━━━━━━━╇━━━━━━━━━━━━━━━━━━━━━━━━╇━━━━━━━━━━━━━━━┩\n",
              "│ input_layer_3 (\u001b[38;5;33mInputLayer\u001b[0m)      │ (\u001b[38;5;45mNone\u001b[0m, \u001b[38;5;34m224\u001b[0m, \u001b[38;5;34m224\u001b[0m, \u001b[38;5;34m3\u001b[0m)    │             \u001b[38;5;34m0\u001b[0m │\n",
              "├─────────────────────────────────┼────────────────────────┼───────────────┤\n",
              "│ resnet101 (\u001b[38;5;33mFunctional\u001b[0m)          │ (\u001b[38;5;45mNone\u001b[0m, \u001b[38;5;34m7\u001b[0m, \u001b[38;5;34m7\u001b[0m, \u001b[38;5;34m2048\u001b[0m)     │    \u001b[38;5;34m42,658,176\u001b[0m │\n",
              "├─────────────────────────────────┼────────────────────────┼───────────────┤\n",
              "│ global_average_pooling2d_1      │ (\u001b[38;5;45mNone\u001b[0m, \u001b[38;5;34m2048\u001b[0m)           │             \u001b[38;5;34m0\u001b[0m │\n",
              "│ (\u001b[38;5;33mGlobalAveragePooling2D\u001b[0m)        │                        │               │\n",
              "├─────────────────────────────────┼────────────────────────┼───────────────┤\n",
              "│ dropout_1 (\u001b[38;5;33mDropout\u001b[0m)             │ (\u001b[38;5;45mNone\u001b[0m, \u001b[38;5;34m2048\u001b[0m)           │             \u001b[38;5;34m0\u001b[0m │\n",
              "├─────────────────────────────────┼────────────────────────┼───────────────┤\n",
              "│ dense_1 (\u001b[38;5;33mDense\u001b[0m)                 │ (\u001b[38;5;45mNone\u001b[0m, \u001b[38;5;34m3\u001b[0m)              │         \u001b[38;5;34m6,147\u001b[0m │\n",
              "└─────────────────────────────────┴────────────────────────┴───────────────┘\n"
            ],
            "text/html": [
              "<pre style=\"white-space:pre;overflow-x:auto;line-height:normal;font-family:Menlo,'DejaVu Sans Mono',consolas,'Courier New',monospace\">┏━━━━━━━━━━━━━━━━━━━━━━━━━━━━━━━━━┳━━━━━━━━━━━━━━━━━━━━━━━━┳━━━━━━━━━━━━━━━┓\n",
              "┃<span style=\"font-weight: bold\"> Layer (type)                    </span>┃<span style=\"font-weight: bold\"> Output Shape           </span>┃<span style=\"font-weight: bold\">       Param # </span>┃\n",
              "┡━━━━━━━━━━━━━━━━━━━━━━━━━━━━━━━━━╇━━━━━━━━━━━━━━━━━━━━━━━━╇━━━━━━━━━━━━━━━┩\n",
              "│ input_layer_3 (<span style=\"color: #0087ff; text-decoration-color: #0087ff\">InputLayer</span>)      │ (<span style=\"color: #00d7ff; text-decoration-color: #00d7ff\">None</span>, <span style=\"color: #00af00; text-decoration-color: #00af00\">224</span>, <span style=\"color: #00af00; text-decoration-color: #00af00\">224</span>, <span style=\"color: #00af00; text-decoration-color: #00af00\">3</span>)    │             <span style=\"color: #00af00; text-decoration-color: #00af00\">0</span> │\n",
              "├─────────────────────────────────┼────────────────────────┼───────────────┤\n",
              "│ resnet101 (<span style=\"color: #0087ff; text-decoration-color: #0087ff\">Functional</span>)          │ (<span style=\"color: #00d7ff; text-decoration-color: #00d7ff\">None</span>, <span style=\"color: #00af00; text-decoration-color: #00af00\">7</span>, <span style=\"color: #00af00; text-decoration-color: #00af00\">7</span>, <span style=\"color: #00af00; text-decoration-color: #00af00\">2048</span>)     │    <span style=\"color: #00af00; text-decoration-color: #00af00\">42,658,176</span> │\n",
              "├─────────────────────────────────┼────────────────────────┼───────────────┤\n",
              "│ global_average_pooling2d_1      │ (<span style=\"color: #00d7ff; text-decoration-color: #00d7ff\">None</span>, <span style=\"color: #00af00; text-decoration-color: #00af00\">2048</span>)           │             <span style=\"color: #00af00; text-decoration-color: #00af00\">0</span> │\n",
              "│ (<span style=\"color: #0087ff; text-decoration-color: #0087ff\">GlobalAveragePooling2D</span>)        │                        │               │\n",
              "├─────────────────────────────────┼────────────────────────┼───────────────┤\n",
              "│ dropout_1 (<span style=\"color: #0087ff; text-decoration-color: #0087ff\">Dropout</span>)             │ (<span style=\"color: #00d7ff; text-decoration-color: #00d7ff\">None</span>, <span style=\"color: #00af00; text-decoration-color: #00af00\">2048</span>)           │             <span style=\"color: #00af00; text-decoration-color: #00af00\">0</span> │\n",
              "├─────────────────────────────────┼────────────────────────┼───────────────┤\n",
              "│ dense_1 (<span style=\"color: #0087ff; text-decoration-color: #0087ff\">Dense</span>)                 │ (<span style=\"color: #00d7ff; text-decoration-color: #00d7ff\">None</span>, <span style=\"color: #00af00; text-decoration-color: #00af00\">3</span>)              │         <span style=\"color: #00af00; text-decoration-color: #00af00\">6,147</span> │\n",
              "└─────────────────────────────────┴────────────────────────┴───────────────┘\n",
              "</pre>\n"
            ]
          },
          "metadata": {}
        },
        {
          "output_type": "display_data",
          "data": {
            "text/plain": [
              "\u001b[1m Total params: \u001b[0m\u001b[38;5;34m42,664,323\u001b[0m (162.75 MB)\n"
            ],
            "text/html": [
              "<pre style=\"white-space:pre;overflow-x:auto;line-height:normal;font-family:Menlo,'DejaVu Sans Mono',consolas,'Courier New',monospace\"><span style=\"font-weight: bold\"> Total params: </span><span style=\"color: #00af00; text-decoration-color: #00af00\">42,664,323</span> (162.75 MB)\n",
              "</pre>\n"
            ]
          },
          "metadata": {}
        },
        {
          "output_type": "display_data",
          "data": {
            "text/plain": [
              "\u001b[1m Trainable params: \u001b[0m\u001b[38;5;34m6,147\u001b[0m (24.01 KB)\n"
            ],
            "text/html": [
              "<pre style=\"white-space:pre;overflow-x:auto;line-height:normal;font-family:Menlo,'DejaVu Sans Mono',consolas,'Courier New',monospace\"><span style=\"font-weight: bold\"> Trainable params: </span><span style=\"color: #00af00; text-decoration-color: #00af00\">6,147</span> (24.01 KB)\n",
              "</pre>\n"
            ]
          },
          "metadata": {}
        },
        {
          "output_type": "display_data",
          "data": {
            "text/plain": [
              "\u001b[1m Non-trainable params: \u001b[0m\u001b[38;5;34m42,658,176\u001b[0m (162.73 MB)\n"
            ],
            "text/html": [
              "<pre style=\"white-space:pre;overflow-x:auto;line-height:normal;font-family:Menlo,'DejaVu Sans Mono',consolas,'Courier New',monospace\"><span style=\"font-weight: bold\"> Non-trainable params: </span><span style=\"color: #00af00; text-decoration-color: #00af00\">42,658,176</span> (162.73 MB)\n",
              "</pre>\n"
            ]
          },
          "metadata": {}
        }
      ]
    },
    {
      "cell_type": "markdown",
      "source": [
        "# 9. Train the model with EarlyStopping and ModelCheckpoint"
      ],
      "metadata": {
        "id": "3Kvz2zQjiSLo"
      }
    },
    {
      "cell_type": "code",
      "source": [
        "from tensorflow.keras.callbacks import EarlyStopping, ModelCheckpoint\n",
        "\n",
        "checkpoint_cb = ModelCheckpoint(\"best_model.keras\", monitor='val_accuracy', save_best_only=True, mode='max', verbose=1)\n",
        "earlystop_cb = EarlyStopping(monitor='val_accuracy', patience=5, restore_best_weights=True, mode='max', verbose=1)\n",
        "\n",
        "epochs = 30\n",
        "history = model.fit(\n",
        "    train_ds,\n",
        "    validation_data=val_ds,\n",
        "    epochs=epochs,\n",
        "    callbacks=[checkpoint_cb, earlystop_cb]\n",
        ")\n"
      ],
      "metadata": {
        "colab": {
          "base_uri": "https://localhost:8080/"
        },
        "id": "IHNfG1OviUCC",
        "outputId": "cb98991e-c522-422f-d259-bc3077865f55"
      },
      "execution_count": null,
      "outputs": [
        {
          "output_type": "stream",
          "name": "stdout",
          "text": [
            "Epoch 1/30\n",
            "\u001b[1m508/508\u001b[0m \u001b[32m━━━━━━━━━━━━━━━━━━━━\u001b[0m\u001b[37m\u001b[0m \u001b[1m0s\u001b[0m 35ms/step - accuracy: 0.7493 - loss: 0.5198\n",
            "Epoch 1: val_accuracy improved from -inf to 0.91430, saving model to best_model.keras\n",
            "\u001b[1m508/508\u001b[0m \u001b[32m━━━━━━━━━━━━━━━━━━━━\u001b[0m\u001b[37m\u001b[0m \u001b[1m47s\u001b[0m 59ms/step - accuracy: 0.7495 - loss: 0.5195 - val_accuracy: 0.9143 - val_loss: 0.1943\n",
            "Epoch 2/30\n",
            "\u001b[1m507/508\u001b[0m \u001b[32m━━━━━━━━━━━━━━━━━━━\u001b[0m\u001b[37m━\u001b[0m \u001b[1m0s\u001b[0m 27ms/step - accuracy: 0.8849 - loss: 0.2540\n",
            "Epoch 2: val_accuracy improved from 0.91430 to 0.95386, saving model to best_model.keras\n",
            "\u001b[1m508/508\u001b[0m \u001b[32m━━━━━━━━━━━━━━━━━━━━\u001b[0m\u001b[37m\u001b[0m \u001b[1m17s\u001b[0m 33ms/step - accuracy: 0.8849 - loss: 0.2540 - val_accuracy: 0.9539 - val_loss: 0.1368\n",
            "Epoch 3/30\n",
            "\u001b[1m507/508\u001b[0m \u001b[32m━━━━━━━━━━━━━━━━━━━\u001b[0m\u001b[37m━\u001b[0m \u001b[1m0s\u001b[0m 27ms/step - accuracy: 0.8980 - loss: 0.2302\n",
            "Epoch 3: val_accuracy improved from 0.95386 to 0.96111, saving model to best_model.keras\n",
            "\u001b[1m508/508\u001b[0m \u001b[32m━━━━━━━━━━━━━━━━━━━━\u001b[0m\u001b[37m\u001b[0m \u001b[1m17s\u001b[0m 33ms/step - accuracy: 0.8980 - loss: 0.2302 - val_accuracy: 0.9611 - val_loss: 0.1043\n",
            "Epoch 4/30\n",
            "\u001b[1m507/508\u001b[0m \u001b[32m━━━━━━━━━━━━━━━━━━━\u001b[0m\u001b[37m━\u001b[0m \u001b[1m0s\u001b[0m 27ms/step - accuracy: 0.9104 - loss: 0.2095\n",
            "Epoch 4: val_accuracy did not improve from 0.96111\n",
            "\u001b[1m508/508\u001b[0m \u001b[32m━━━━━━━━━━━━━━━━━━━━\u001b[0m\u001b[37m\u001b[0m \u001b[1m15s\u001b[0m 29ms/step - accuracy: 0.9104 - loss: 0.2096 - val_accuracy: 0.9539 - val_loss: 0.1112\n",
            "Epoch 5/30\n",
            "\u001b[1m507/508\u001b[0m \u001b[32m━━━━━━━━━━━━━━━━━━━\u001b[0m\u001b[37m━\u001b[0m \u001b[1m0s\u001b[0m 27ms/step - accuracy: 0.9091 - loss: 0.2068\n",
            "Epoch 5: val_accuracy did not improve from 0.96111\n",
            "\u001b[1m508/508\u001b[0m \u001b[32m━━━━━━━━━━━━━━━━━━━━\u001b[0m\u001b[37m\u001b[0m \u001b[1m15s\u001b[0m 29ms/step - accuracy: 0.9091 - loss: 0.2068 - val_accuracy: 0.9558 - val_loss: 0.1074\n",
            "Epoch 6/30\n",
            "\u001b[1m507/508\u001b[0m \u001b[32m━━━━━━━━━━━━━━━━━━━\u001b[0m\u001b[37m━\u001b[0m \u001b[1m0s\u001b[0m 27ms/step - accuracy: 0.9055 - loss: 0.2110\n",
            "Epoch 6: val_accuracy improved from 0.96111 to 0.96440, saving model to best_model.keras\n",
            "\u001b[1m508/508\u001b[0m \u001b[32m━━━━━━━━━━━━━━━━━━━━\u001b[0m\u001b[37m\u001b[0m \u001b[1m16s\u001b[0m 32ms/step - accuracy: 0.9056 - loss: 0.2110 - val_accuracy: 0.9644 - val_loss: 0.0863\n",
            "Epoch 7/30\n",
            "\u001b[1m507/508\u001b[0m \u001b[32m━━━━━━━━━━━━━━━━━━━\u001b[0m\u001b[37m━\u001b[0m \u001b[1m0s\u001b[0m 27ms/step - accuracy: 0.9092 - loss: 0.2092\n",
            "Epoch 7: val_accuracy improved from 0.96440 to 0.97429, saving model to best_model.keras\n",
            "\u001b[1m508/508\u001b[0m \u001b[32m━━━━━━━━━━━━━━━━━━━━\u001b[0m\u001b[37m\u001b[0m \u001b[1m16s\u001b[0m 32ms/step - accuracy: 0.9092 - loss: 0.2091 - val_accuracy: 0.9743 - val_loss: 0.0785\n",
            "Epoch 8/30\n",
            "\u001b[1m507/508\u001b[0m \u001b[32m━━━━━━━━━━━━━━━━━━━\u001b[0m\u001b[37m━\u001b[0m \u001b[1m0s\u001b[0m 27ms/step - accuracy: 0.9154 - loss: 0.1985\n",
            "Epoch 8: val_accuracy did not improve from 0.97429\n",
            "\u001b[1m508/508\u001b[0m \u001b[32m━━━━━━━━━━━━━━━━━━━━\u001b[0m\u001b[37m\u001b[0m \u001b[1m15s\u001b[0m 29ms/step - accuracy: 0.9154 - loss: 0.1984 - val_accuracy: 0.9684 - val_loss: 0.0799\n",
            "Epoch 9/30\n",
            "\u001b[1m507/508\u001b[0m \u001b[32m━━━━━━━━━━━━━━━━━━━\u001b[0m\u001b[37m━\u001b[0m \u001b[1m0s\u001b[0m 27ms/step - accuracy: 0.9098 - loss: 0.2041\n",
            "Epoch 9: val_accuracy did not improve from 0.97429\n",
            "\u001b[1m508/508\u001b[0m \u001b[32m━━━━━━━━━━━━━━━━━━━━\u001b[0m\u001b[37m\u001b[0m \u001b[1m15s\u001b[0m 29ms/step - accuracy: 0.9098 - loss: 0.2041 - val_accuracy: 0.9710 - val_loss: 0.0794\n",
            "Epoch 10/30\n",
            "\u001b[1m507/508\u001b[0m \u001b[32m━━━━━━━━━━━━━━━━━━━\u001b[0m\u001b[37m━\u001b[0m \u001b[1m0s\u001b[0m 27ms/step - accuracy: 0.9042 - loss: 0.2211\n",
            "Epoch 10: val_accuracy improved from 0.97429 to 0.98088, saving model to best_model.keras\n",
            "\u001b[1m508/508\u001b[0m \u001b[32m━━━━━━━━━━━━━━━━━━━━\u001b[0m\u001b[37m\u001b[0m \u001b[1m17s\u001b[0m 33ms/step - accuracy: 0.9042 - loss: 0.2211 - val_accuracy: 0.9809 - val_loss: 0.0700\n",
            "Epoch 11/30\n",
            "\u001b[1m507/508\u001b[0m \u001b[32m━━━━━━━━━━━━━━━━━━━\u001b[0m\u001b[37m━\u001b[0m \u001b[1m0s\u001b[0m 27ms/step - accuracy: 0.9141 - loss: 0.2032\n",
            "Epoch 11: val_accuracy did not improve from 0.98088\n",
            "\u001b[1m508/508\u001b[0m \u001b[32m━━━━━━━━━━━━━━━━━━━━\u001b[0m\u001b[37m\u001b[0m \u001b[1m15s\u001b[0m 29ms/step - accuracy: 0.9141 - loss: 0.2032 - val_accuracy: 0.9769 - val_loss: 0.0725\n",
            "Epoch 12/30\n",
            "\u001b[1m507/508\u001b[0m \u001b[32m━━━━━━━━━━━━━━━━━━━\u001b[0m\u001b[37m━\u001b[0m \u001b[1m0s\u001b[0m 27ms/step - accuracy: 0.9118 - loss: 0.2029\n",
            "Epoch 12: val_accuracy did not improve from 0.98088\n",
            "\u001b[1m508/508\u001b[0m \u001b[32m━━━━━━━━━━━━━━━━━━━━\u001b[0m\u001b[37m\u001b[0m \u001b[1m15s\u001b[0m 29ms/step - accuracy: 0.9118 - loss: 0.2028 - val_accuracy: 0.9743 - val_loss: 0.0711\n",
            "Epoch 13/30\n",
            "\u001b[1m507/508\u001b[0m \u001b[32m━━━━━━━━━━━━━━━━━━━\u001b[0m\u001b[37m━\u001b[0m \u001b[1m0s\u001b[0m 27ms/step - accuracy: 0.9132 - loss: 0.2042\n",
            "Epoch 13: val_accuracy did not improve from 0.98088\n",
            "\u001b[1m508/508\u001b[0m \u001b[32m━━━━━━━━━━━━━━━━━━━━\u001b[0m\u001b[37m\u001b[0m \u001b[1m15s\u001b[0m 29ms/step - accuracy: 0.9132 - loss: 0.2042 - val_accuracy: 0.9684 - val_loss: 0.0873\n",
            "Epoch 14/30\n",
            "\u001b[1m507/508\u001b[0m \u001b[32m━━━━━━━━━━━━━━━━━━━\u001b[0m\u001b[37m━\u001b[0m \u001b[1m0s\u001b[0m 27ms/step - accuracy: 0.9128 - loss: 0.2011\n",
            "Epoch 14: val_accuracy did not improve from 0.98088\n",
            "\u001b[1m508/508\u001b[0m \u001b[32m━━━━━━━━━━━━━━━━━━━━\u001b[0m\u001b[37m\u001b[0m \u001b[1m15s\u001b[0m 29ms/step - accuracy: 0.9129 - loss: 0.2011 - val_accuracy: 0.9802 - val_loss: 0.0632\n",
            "Epoch 15/30\n",
            "\u001b[1m507/508\u001b[0m \u001b[32m━━━━━━━━━━━━━━━━━━━\u001b[0m\u001b[37m━\u001b[0m \u001b[1m0s\u001b[0m 27ms/step - accuracy: 0.9138 - loss: 0.2023\n",
            "Epoch 15: val_accuracy did not improve from 0.98088\n",
            "\u001b[1m508/508\u001b[0m \u001b[32m━━━━━━━━━━━━━━━━━━━━\u001b[0m\u001b[37m\u001b[0m \u001b[1m15s\u001b[0m 29ms/step - accuracy: 0.9138 - loss: 0.2023 - val_accuracy: 0.9756 - val_loss: 0.0666\n",
            "Epoch 15: early stopping\n",
            "Restoring model weights from the end of the best epoch: 10.\n"
          ]
        }
      ]
    },
    {
      "cell_type": "markdown",
      "source": [
        "# 10. Evaluate on the test set and get predictions for report/confusion matrix"
      ],
      "metadata": {
        "id": "XuAyu7AVioNz"
      }
    },
    {
      "cell_type": "code",
      "source": [
        "import numpy as np\n",
        "from sklearn.metrics import classification_report, confusion_matrix\n",
        "\n",
        "model = tf.keras.models.load_model(\"best_model.keras\")\n",
        "\n",
        "y_true = []\n",
        "y_pred = []\n",
        "for images, labels in test_ds:\n",
        "    y_true.extend(labels.numpy())\n",
        "    preds = model.predict(images, verbose=0)\n",
        "    y_pred.extend(np.argmax(preds, axis=1))\n",
        "\n",
        "y_true = np.array(y_true)\n",
        "y_pred = np.array(y_pred)\n",
        "\n",
        "print(\"Class names:\", class_names)\n",
        "\n",
        "print(\"\\nClassification Report:\")\n",
        "print(classification_report(y_true, y_pred, target_names=class_names))\n",
        "\n",
        "cm = confusion_matrix(y_true, y_pred)\n",
        "print(\"Confusion Matrix:\\n\", cm)\n"
      ],
      "metadata": {
        "id": "5Vrvva_ni4at",
        "colab": {
          "base_uri": "https://localhost:8080/"
        },
        "outputId": "c3291adc-25f3-4ebf-96d4-4d56bcfc2908"
      },
      "execution_count": null,
      "outputs": [
        {
          "output_type": "stream",
          "name": "stdout",
          "text": [
            "Class names: ['away-from-desk', 'distracted', 'studying']\n",
            "\n",
            "Classification Report:\n",
            "                precision    recall  f1-score   support\n",
            "\n",
            "away-from-desk       1.00      1.00      1.00       255\n",
            "    distracted       0.97      0.96      0.96       247\n",
            "      studying       0.96      0.97      0.96       246\n",
            "\n",
            "      accuracy                           0.97       748\n",
            "     macro avg       0.97      0.97      0.97       748\n",
            "  weighted avg       0.97      0.97      0.97       748\n",
            "\n",
            "Confusion Matrix:\n",
            " [[255   0   0]\n",
            " [  0 236  11]\n",
            " [  0   8 238]]\n"
          ]
        }
      ]
    },
    {
      "cell_type": "markdown",
      "source": [
        "# 11. Plot the confusion matrix"
      ],
      "metadata": {
        "id": "fOnQ_4v-jF69"
      }
    },
    {
      "cell_type": "code",
      "source": [
        "import matplotlib.pyplot as plt\n",
        "import seaborn as sns\n",
        "\n",
        "plt.figure(figsize=(6,5))\n",
        "sns.heatmap(cm, annot=True, fmt='d', xticklabels=class_names, yticklabels=class_names, cmap=\"Blues\")\n",
        "plt.xlabel('Predicted Label')\n",
        "plt.ylabel('True Label')\n",
        "plt.title('Confusion Matrix')\n",
        "plt.show()\n"
      ],
      "metadata": {
        "id": "Tr9Gq5gHjPG7",
        "colab": {
          "base_uri": "https://localhost:8080/",
          "height": 487
        },
        "outputId": "6545e57e-f08f-47fb-95d6-1b4ce2d64d6c"
      },
      "execution_count": null,
      "outputs": [
        {
          "output_type": "display_data",
          "data": {
            "text/plain": [
              "<Figure size 600x500 with 2 Axes>"
            ],
            "image/png": "[encoded data removed]"
          },
          "metadata": {}
        }
      ]
    },
    {
      "cell_type": "markdown",
      "source": [
        "# 12. Save the trained model to Google Drive"
      ],
      "metadata": {
        "id": "g48a9Atnjh0T"
      }
    },
    {
      "cell_type": "code",
      "source": [
        "from google.colab import drive\n",
        "drive.mount('/content/drive')\n",
        "\n",
        "model_save_path = \"/content/drive/MyDrive/model_v1_resnet101.keras\"\n",
        "model.save(model_save_path)\n",
        "print(f\"Model saved to {model_save_path}\")\n"
      ],
      "metadata": {
        "colab": {
          "base_uri": "https://localhost:8080/"
        },
        "id": "SnmF3ATljlGA",
        "outputId": "3682c3cb-8693-4a4e-d72e-b6b8464dd4dd"
      },
      "execution_count": null,
      "outputs": [
        {
          "output_type": "stream",
          "name": "stdout",
          "text": [
            "Drive already mounted at /content/drive; to attempt to forcibly remount, call drive.mount(\"/content/drive\", force_remount=True).\n",
            "Model saved to /content/drive/MyDrive/model_v1_resnet101.keras\n"
          ]
        }
      ]
    },
    {
      "cell_type": "markdown",
      "source": [
        "Gradio Interface"
      ],
      "metadata": {
        "id": "d74sitVCnPpg"
      }
    },
    {
      "cell_type": "code",
      "source": [
        "import os\n",
        "import gradio as gr\n",
        "import tensorflow as tf\n",
        "import numpy as np\n",
        "from PIL import Image\n",
        "import pandas as pd\n",
        "import cv2\n",
        "\n",
        "from tensorflow.keras.applications.resnet import preprocess_input\n",
        "\n",
        "# Path to your model\n",
        "MODEL_PATH = \"/content/drive/MyDrive/model-v1.h5\"\n",
        "if not os.path.exists(MODEL_PATH):\n",
        "    raise FileNotFoundError(f\"Model file not found at {MODEL_PATH}.\")\n",
        "model = tf.keras.models.load_model(MODEL_PATH)\n",
        "\n",
        "class_names = ['away-from-desk', 'distracted', 'studying']\n",
        "\n",
        "def preprocess_image(img):\n",
        "    \"\"\"Resize to 224x224, convert to RGB, preprocess for ResNet, return model_input and display_img.\"\"\"\n",
        "    if isinstance(img, np.ndarray):\n",
        "        img = Image.fromarray(img)\n",
        "    img = img.convert(\"RGB\")\n",
        "    img_resized = img.resize((224, 224))\n",
        "    img_array = np.array(img_resized, dtype=np.float32)\n",
        "    # ResNet preprocessing: RGB->BGR, zero-centered with mean subtraction\n",
        "    img_preprocessed = preprocess_input(img_array.copy())  # .copy() for safety\n",
        "    model_input = np.expand_dims(img_preprocessed, axis=0)\n",
        "    # For display: just show resized, not preprocessed\n",
        "    return model_input, img_resized\n",
        "\n",
        "def classify_image(image):\n",
        "    if image is None:\n",
        "        raise gr.Error(\"No image provided.\")\n",
        "    input_tensor, display_img = preprocess_image(image)\n",
        "    preds = model.predict(input_tensor)[0]\n",
        "    probs_dict = {class_names[i]: float(preds[i]) for i in range(len(class_names))}\n",
        "    return probs_dict, display_img\n",
        "\n",
        "def classify_video(video_path):\n",
        "    if video_path is None:\n",
        "        raise gr.Error(\"No video provided.\")\n",
        "    cap = cv2.VideoCapture(video_path)\n",
        "    if not cap.isOpened():\n",
        "        raise gr.Error(\"Failed to open video.\")\n",
        "    fps = cap.get(cv2.CAP_PROP_FPS) or 1\n",
        "    frame_count = int(cap.get(cv2.CAP_PROP_FRAME_COUNT))\n",
        "    duration = frame_count / fps\n",
        "    num_seconds = max(1, int(duration))\n",
        "    results = []\n",
        "    for sec in range(num_seconds):\n",
        "        cap.set(cv2.CAP_PROP_POS_MSEC, sec * 1000)\n",
        "        ret, frame = cap.read()\n",
        "        if not ret:\n",
        "            break\n",
        "        frame_rgb = cv2.cvtColor(frame, cv2.COLOR_BGR2RGB)\n",
        "        pil_img = Image.fromarray(frame_rgb).resize((224, 224))\n",
        "        img_array = np.array(pil_img, dtype=np.float32)\n",
        "        input_tensor = np.expand_dims(preprocess_input(img_array), axis=0)\n",
        "        preds = model.predict(input_tensor)[0]\n",
        "        result_row = {\"time(sec)\": sec}\n",
        "        for i, cls in enumerate(class_names):\n",
        "            result_row[cls] = float(preds[i])\n",
        "        results.append(result_row)\n",
        "    cap.release()\n",
        "    if not results:\n",
        "        raise gr.Error(\"No frames were extracted from the video.\")\n",
        "    df = pd.DataFrame(results)\n",
        "    return df\n",
        "\n",
        "with gr.Blocks(title=\"Student Activity Classification\") as demo:\n",
        "    gr.Markdown(\"# Student Activity Classifier\")\n",
        "    gr.Markdown(\"Upload an image/video or use webcam. See the preprocessed (resized) image and class probabilities.\")\n",
        "\n",
        "    with gr.Tabs():\n",
        "        with gr.Tab(\"Image\"):\n",
        "            image_input = gr.Image(type=\"pil\", label=\"Upload Image\")\n",
        "            img_predict_btn = gr.Button(\"Classify Image\")\n",
        "            img_output = gr.Label(label=\"Predicted Probabilities\")\n",
        "            img_pre_out = gr.Image(label=\"Preprocessed (Resized) Image for Model\")\n",
        "            img_predict_btn.click(\n",
        "                fn=classify_image,\n",
        "                inputs=image_input,\n",
        "                outputs=[img_output, img_pre_out]\n",
        "            )\n",
        "        with gr.Tab(\"Video\"):\n",
        "            video_input = gr.Video(label=\"Upload Video (.mp4, .webm, etc.)\")\n",
        "            vid_predict_btn = gr.Button(\"Analyze Video\")\n",
        "            vid_output = gr.Dataframe(label=\"Frame-by-Frame Predictions\", headers=[\"time(sec)\"] + class_names)\n",
        "            vid_predict_btn.click(\n",
        "                fn=classify_video,\n",
        "                inputs=video_input,\n",
        "                outputs=vid_output\n",
        "            )\n",
        "        with gr.Tab(\"Webcam\"):\n",
        "            webcam_input = gr.Image(type=\"pil\", label=\"Webcam Snapshot\")\n",
        "            cam_predict_btn = gr.Button(\"Classify Image\")\n",
        "            cam_output = gr.Label(label=\"Predicted Probabilities\")\n",
        "            cam_pre_out = gr.Image(label=\"Preprocessed (Resized) Image for Model\")\n",
        "            cam_predict_btn.click(\n",
        "                fn=classify_image,\n",
        "                inputs=webcam_input,\n",
        "                outputs=[cam_output, cam_pre_out]\n",
        "            )\n",
        "\n",
        "demo.launch(share=True)\n"
      ],
      "metadata": {
        "colab": {
          "base_uri": "https://localhost:8080/",
          "height": 349
        },
        "id": "_Mg6Xv-cnTam",
        "outputId": "019db2f5-697a-46ae-cc0f-12db11e2e46f"
      },
      "execution_count": null,
      "outputs": [
        {
          "output_type": "stream",
          "name": "stderr",
          "text": [
            "WARNING:absl:Compiled the loaded model, but the compiled metrics have yet to be built. `model.compile_metrics` will be empty until you train or evaluate the model.\n"
          ]
        },
        {
          "output_type": "error",
          "ename": "TypeError",
          "evalue": "Image.__init__() got an unexpected keyword argument 'webcam'",
          "traceback": [
            "\u001b[0;31m---------------------------------------------------------------------------\u001b[0m",
            "\u001b[0;31mTypeError\u001b[0m                                 Traceback (most recent call last)",
            "\u001b[0;32m<ipython-input-43-1276aa114437>\u001b[0m in \u001b[0;36m<cell line: 0>\u001b[0;34m()\u001b[0m\n\u001b[1;32m    116\u001b[0m             )\n\u001b[1;32m    117\u001b[0m         \u001b[0;32mwith\u001b[0m \u001b[0mgr\u001b[0m\u001b[0;34m.\u001b[0m\u001b[0mTab\u001b[0m\u001b[0;34m(\u001b[0m\u001b[0;34m\"Webcam Live\"\u001b[0m\u001b[0;34m)\u001b[0m\u001b[0;34m:\u001b[0m\u001b[0;34m\u001b[0m\u001b[0;34m\u001b[0m\u001b[0m\n\u001b[0;32m--> 118\u001b[0;31m             \u001b[0mwebcam_live\u001b[0m \u001b[0;34m=\u001b[0m \u001b[0mgr\u001b[0m\u001b[0;34m.\u001b[0m\u001b[0mImage\u001b[0m\u001b[0;34m(\u001b[0m\u001b[0mtype\u001b[0m\u001b[0;34m=\u001b[0m\u001b[0;34m\"pil\"\u001b[0m\u001b[0;34m,\u001b[0m \u001b[0mlabel\u001b[0m\u001b[0;34m=\u001b[0m\u001b[0;34m\"Live Webcam\"\u001b[0m\u001b[0;34m,\u001b[0m \u001b[0mwebcam\u001b[0m\u001b[0;34m=\u001b[0m\u001b[0;32mTrue\u001b[0m\u001b[0;34m)\u001b[0m\u001b[0;34m\u001b[0m\u001b[0;34m\u001b[0m\u001b[0m\n\u001b[0m\u001b[1;32m    119\u001b[0m             \u001b[0mlive_probs\u001b[0m \u001b[0;34m=\u001b[0m \u001b[0mgr\u001b[0m\u001b[0;34m.\u001b[0m\u001b[0mLabel\u001b[0m\u001b[0;34m(\u001b[0m\u001b[0mlabel\u001b[0m\u001b[0;34m=\u001b[0m\u001b[0;34m\"Predicted Probabilities\"\u001b[0m\u001b[0;34m)\u001b[0m\u001b[0;34m\u001b[0m\u001b[0;34m\u001b[0m\u001b[0m\n\u001b[1;32m    120\u001b[0m             \u001b[0mlive_pre_img\u001b[0m \u001b[0;34m=\u001b[0m \u001b[0mgr\u001b[0m\u001b[0;34m.\u001b[0m\u001b[0mImage\u001b[0m\u001b[0;34m(\u001b[0m\u001b[0mlabel\u001b[0m\u001b[0;34m=\u001b[0m\u001b[0;34m\"Preprocessed (Resized) Image for Model\"\u001b[0m\u001b[0;34m)\u001b[0m\u001b[0;34m\u001b[0m\u001b[0;34m\u001b[0m\u001b[0m\n",
            "\u001b[0;32m/usr/local/lib/python3.11/dist-packages/gradio/component_meta.py\u001b[0m in \u001b[0;36mwrapper\u001b[0;34m(*args, **kwargs)\u001b[0m\n\u001b[1;32m    180\u001b[0m             \u001b[0;32mreturn\u001b[0m \u001b[0;32mNone\u001b[0m\u001b[0;34m\u001b[0m\u001b[0;34m\u001b[0m\u001b[0m\n\u001b[1;32m    181\u001b[0m         \u001b[0;32melse\u001b[0m\u001b[0;34m:\u001b[0m\u001b[0;34m\u001b[0m\u001b[0;34m\u001b[0m\u001b[0m\n\u001b[0;32m--> 182\u001b[0;31m             \u001b[0;32mreturn\u001b[0m \u001b[0mfn\u001b[0m\u001b[0;34m(\u001b[0m\u001b[0mself\u001b[0m\u001b[0;34m,\u001b[0m \u001b[0;34m**\u001b[0m\u001b[0mkwargs\u001b[0m\u001b[0;34m)\u001b[0m\u001b[0;34m\u001b[0m\u001b[0;34m\u001b[0m\u001b[0m\n\u001b[0m\u001b[1;32m    183\u001b[0m \u001b[0;34m\u001b[0m\u001b[0m\n\u001b[1;32m    184\u001b[0m     \u001b[0;32mreturn\u001b[0m \u001b[0mwrapper\u001b[0m\u001b[0;34m\u001b[0m\u001b[0;34m\u001b[0m\u001b[0m\n",
            "\u001b[0;31mTypeError\u001b[0m: Image.__init__() got an unexpected keyword argument 'webcam'"
          ]
        }
      ]
    },
    {
      "cell_type": "code",
      "source": [
        "import gradio as gr\n",
        "print(gr.__version__)\n"
      ],
      "metadata": {
        "colab": {
          "base_uri": "https://localhost:8080/"
        },
        "id": "2nLbjCBE54cq",
        "outputId": "bf99fea6-d888-4940-8564-587ac0c39c6b"
      },
      "execution_count": null,
      "outputs": [
        {
          "output_type": "stream",
          "name": "stdout",
          "text": [
            "5.32.1\n"
          ]
        }
      ]
    }
  ]
}